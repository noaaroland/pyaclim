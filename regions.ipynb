{
 "cells": [
  {
   "cell_type": "code",
   "execution_count": 1,
   "metadata": {},
   "outputs": [],
   "source": [
    "import xarray as xr"
   ]
  },
  {
   "cell_type": "code",
   "execution_count": 2,
   "metadata": {},
   "outputs": [],
   "source": [
    "array = xr.open_dataset(\"ACLIMregion_B10K-H16_CMIP5_CESM_BIO_rcp85.nc\")"
   ]
  },
  {
   "cell_type": "code",
   "execution_count": 3,
   "metadata": {},
   "outputs": [
    {
     "data": {
      "text/plain": [
       "<xarray.Dataset>\n",
       "Dimensions:               (ocean_time: 4902, region: 22)\n",
       "Coordinates:\n",
       "  * ocean_time            (ocean_time) datetime64[ns] 2006-01-22T12:00:00 ... 2099-12-27T12:00:00\n",
       "  * region                (region) float64 10.0 20.0 31.0 ... -50.0 -61.0 -150.0\n",
       "Data variables:\n",
       "    region_area           (region) float64 ...\n",
       "    Ben                   (ocean_time, region) float64 ...\n",
       "    DetBen                (ocean_time, region) float64 ...\n",
       "    Hsbl                  (ocean_time, region) float64 ...\n",
       "    IceNH4                (ocean_time, region) float64 ...\n",
       "    IceNO3                (ocean_time, region) float64 ...\n",
       "    IcePhL                (ocean_time, region) float64 ...\n",
       "    aice                  (ocean_time, region) float64 ...\n",
       "    hice                  (ocean_time, region) float64 ...\n",
       "    shflux                (ocean_time, region) float64 ...\n",
       "    ssflux                (ocean_time, region) float64 ...\n",
       "    Cop_integrated        (ocean_time, region) float64 ...\n",
       "    Cop_surface5m         (ocean_time, region) float64 ...\n",
       "    EupO_integrated       (ocean_time, region) float64 ...\n",
       "    EupO_surface5m        (ocean_time, region) float64 ...\n",
       "    EupS_integrated       (ocean_time, region) float64 ...\n",
       "    EupS_surface5m        (ocean_time, region) float64 ...\n",
       "    Iron_bottom5m         (ocean_time, region) float64 ...\n",
       "    Iron_integrated       (ocean_time, region) float64 ...\n",
       "    Iron_surface5m        (ocean_time, region) float64 ...\n",
       "    Jel_integrated        (ocean_time, region) float64 ...\n",
       "    Jel_surface5m         (ocean_time, region) float64 ...\n",
       "    MZL_integrated        (ocean_time, region) float64 ...\n",
       "    MZL_surface5m         (ocean_time, region) float64 ...\n",
       "    NCaO_integrated       (ocean_time, region) float64 ...\n",
       "    NCaO_surface5m        (ocean_time, region) float64 ...\n",
       "    NCaS_integrated       (ocean_time, region) float64 ...\n",
       "    NCaS_surface5m        (ocean_time, region) float64 ...\n",
       "    NH4_bottom5m          (ocean_time, region) float64 ...\n",
       "    NH4_integrated        (ocean_time, region) float64 ...\n",
       "    NH4_surface5m         (ocean_time, region) float64 ...\n",
       "    NO3_bottom5m          (ocean_time, region) float64 ...\n",
       "    NO3_integrated        (ocean_time, region) float64 ...\n",
       "    NO3_surface5m         (ocean_time, region) float64 ...\n",
       "    PhL_integrated        (ocean_time, region) float64 ...\n",
       "    PhL_surface5m         (ocean_time, region) float64 ...\n",
       "    PhS_integrated        (ocean_time, region) float64 ...\n",
       "    PhS_surface5m         (ocean_time, region) float64 ...\n",
       "    prod_Cop_integrated   (ocean_time, region) float64 ...\n",
       "    prod_EupO_integrated  (ocean_time, region) float64 ...\n",
       "    prod_EupS_integrated  (ocean_time, region) float64 ...\n",
       "    prod_Eup_integrated   (ocean_time, region) float64 ...\n",
       "    prod_Jel_integrated   (ocean_time, region) float64 ...\n",
       "    prod_MZL_integrated   (ocean_time, region) float64 ...\n",
       "    prod_NCaO_integrated  (ocean_time, region) float64 ...\n",
       "    prod_NCaS_integrated  (ocean_time, region) float64 ...\n",
       "    prod_NCa_integrated   (ocean_time, region) float64 ...\n",
       "    prod_PhL_integrated   (ocean_time, region) float64 ...\n",
       "    prod_PhS_integrated   (ocean_time, region) float64 ...\n",
       "    salt_surface5m        (ocean_time, region) float64 ...\n",
       "    temp_bottom5m         (ocean_time, region) float64 ...\n",
       "    temp_integrated       (ocean_time, region) float64 ...\n",
       "    temp_surface5m        (ocean_time, region) float64 ...\n",
       "    uEast_bottom5m        (ocean_time, region) float64 ...\n",
       "    uEast_surface5m       (ocean_time, region) float64 ...\n",
       "    vNorth_bottom5m       (ocean_time, region) float64 ...\n",
       "    vNorth_surface5m      (ocean_time, region) float64 ...\n",
       "    fracbelow0            (ocean_time, region) float64 ...\n",
       "    fracbelow1            (ocean_time, region) float64 ...\n",
       "    fracbelow2            (ocean_time, region) float64 ...\n",
       "Attributes:\n",
       "    Simulation:  B10K-H16_CMIP5_CESM_BIO_rcp85\n",
       "    Mox_path:    /gscratch/bumblereem/bering10k/output/cmip5-avg/Postprocessed/\n",
       "    Layers:      10.0\n",
       "    history:     Tue Dec 01 16:13:17 2020: Index data calculation complete\\nT..."
      ]
     },
     "execution_count": 3,
     "metadata": {},
     "output_type": "execute_result"
    }
   ],
   "source": [
    "array"
   ]
  },
  {
   "cell_type": "code",
   "execution_count": 4,
   "metadata": {},
   "outputs": [
    {
     "name": "stdout",
     "output_type": "stream",
     "text": [
      "region_area\n",
      "Ben\n",
      "DetBen\n",
      "Hsbl\n",
      "IceNH4\n",
      "IceNO3\n",
      "IcePhL\n",
      "aice\n",
      "hice\n",
      "shflux\n",
      "ssflux\n",
      "Cop_integrated\n",
      "Cop_surface5m\n",
      "EupO_integrated\n",
      "EupO_surface5m\n",
      "EupS_integrated\n",
      "EupS_surface5m\n",
      "Iron_bottom5m\n",
      "Iron_integrated\n",
      "Iron_surface5m\n",
      "Jel_integrated\n",
      "Jel_surface5m\n",
      "MZL_integrated\n",
      "MZL_surface5m\n",
      "NCaO_integrated\n",
      "NCaO_surface5m\n",
      "NCaS_integrated\n",
      "NCaS_surface5m\n",
      "NH4_bottom5m\n",
      "NH4_integrated\n",
      "NH4_surface5m\n",
      "NO3_bottom5m\n",
      "NO3_integrated\n",
      "NO3_surface5m\n",
      "PhL_integrated\n",
      "PhL_surface5m\n",
      "PhS_integrated\n",
      "PhS_surface5m\n",
      "prod_Cop_integrated\n",
      "prod_EupO_integrated\n",
      "prod_EupS_integrated\n",
      "prod_Eup_integrated\n",
      "prod_Jel_integrated\n",
      "prod_MZL_integrated\n",
      "prod_NCaO_integrated\n",
      "prod_NCaS_integrated\n",
      "prod_NCa_integrated\n",
      "prod_PhL_integrated\n",
      "prod_PhS_integrated\n",
      "salt_surface5m\n",
      "temp_bottom5m\n",
      "temp_integrated\n",
      "temp_surface5m\n",
      "uEast_bottom5m\n",
      "uEast_surface5m\n",
      "vNorth_bottom5m\n",
      "vNorth_surface5m\n",
      "fracbelow0\n",
      "fracbelow1\n",
      "fracbelow2\n"
     ]
    }
   ],
   "source": [
    "for var_name, values in array.items():\n",
    "    print(var_name)"
   ]
  },
  {
   "cell_type": "code",
   "execution_count": 5,
   "metadata": {},
   "outputs": [
    {
     "name": "stdout",
     "output_type": "stream",
     "text": [
      "Frozen(OrderedDict([('ocean_time', 4902), ('region', 22)]))\n",
      "4901\n",
      "<xarray.DataArray 'ocean_time' (ocean_time: 4902)>\n",
      "array(['2006-01-22T12:00:00.000000000', '2006-01-29T12:00:00.000000000',\n",
      "       '2006-02-05T12:00:00.000000000', ..., '2099-12-13T12:00:00.000000000',\n",
      "       '2099-12-20T12:00:00.000000000', '2099-12-27T12:00:00.000000000'],\n",
      "      dtype='datetime64[ns]')\n",
      "Coordinates:\n",
      "  * ocean_time  (ocean_time) datetime64[ns] 2006-01-22T12:00:00 ... 2099-12-27T12:00:00\n",
      "Attributes:\n",
      "    long_name:  averaged time since initialization\n",
      "2006-02-05T12:00:00.000000000\n",
      "2\n",
      "4902\n",
      "21\n"
     ]
    }
   ],
   "source": [
    "ben = getattr(array, \"Ben\")\n",
    "print(ben.sizes)\n",
    "print(ben.sizes['ocean_time']-1)\n",
    "print(ben.coords['ocean_time'])\n",
    "print(ben.coords['ocean_time'].values[2])\n",
    "print(len(ben.dims))\n",
    "time_size = ben.sizes['ocean_time']\n",
    "region_size = ben.sizes['region']\n",
    "print(time_size)\n",
    "print(region_size-1)"
   ]
  },
  {
   "cell_type": "code",
   "execution_count": 6,
   "metadata": {},
   "outputs": [],
   "source": [
    "# Collect the variable names\n",
    "vnames = []\n",
    "for var_name, values in array.items():\n",
    "    data_var = getattr(array, var_name)\n",
    "    if len(data_var.dims) == 2:\n",
    "       vnames.append(var_name)"
   ]
  },
  {
   "cell_type": "code",
   "execution_count": 12,
   "metadata": {},
   "outputs": [],
   "source": [
    "latitude = [58.00871103097583, 59.48317741175876, 56.766512883005674, 56.90958796858472, 59.3563371659865, 57.52811789058538, 59.894877044325376, 55.721390584031454, 58.86885542168864, 59.63091504739145, 62.01211203176764, 64.10181659511188, 62.159193663323066, 61.627660254946406, 61.18985219872333, 63.68484991604761, 61.66736236910796, 56.95066837225004, 57.53536127704498, 55.70120679625717, 59.35774726059714, 61.775980603728534]\n",
    "longitude = [197.45645059999939, 192.29566395301015, 195.92889531870983, 191.2544768389449, 188.94415329418348, 190.23321375803843, 187.1823041260105, 192.93755045907739, 185.1032964368386, 185.73151888113688, 190.93039524941915, 192.85337121935044, 187.18863299185168, 185.2062161166606, 183.2326587388477, 183.0667292896418, 180.98645991700732, 191.31167026987794, 190.23686397043917, 193.4868821309112, 184.93677845576244, 181.064186501516]"
   ]
  },
  {
   "cell_type": "code",
   "execution_count": 14,
   "metadata": {},
   "outputs": [],
   "source": [
    "f = open(\"regions.csv\", \"w\")\n",
    "region_area = getattr(array, \"region_area\")\n",
    "time_size = 0\n",
    "region_size = 0\n",
    "f.write(\"time, latitude, longitude, region, region_area, \")\n",
    "for i, var in enumerate(vnames):\n",
    "    if i: # write comma when i > 0\n",
    "        f.write(\", \")\n",
    "    f.write(var)\n",
    "f.write(\"\\n\")\n",
    "f.write(\" , degN, degE, , m^2, \")\n",
    "for i, var in enumerate(vnames):\n",
    "    if i: # write comma when i > 0\n",
    "        f.write(\", \")\n",
    "        time_size = data_var.sizes['ocean_time']\n",
    "        region_size = data_var.sizes['region']\n",
    "    data_var = getattr(array, var)\n",
    "    f.write(data_var.units)\n",
    "f.write(\"\\n\")\n",
    "for row in range(time_size): #time_size\n",
    "    for r in range(region_size): # region_size\n",
    "        f.write(str(data_var.coords['ocean_time'].values[row]))\n",
    "        f.write(\", \")\n",
    "        f.write(str(latitude[r]))\n",
    "        f.write(\", \")\n",
    "        f.write(str(longitude[r]))\n",
    "        f.write(\", \")\n",
    "        f.write(\"region \" + str(data_var.coords['region'].values[r]))\n",
    "        f.write(\", \")\n",
    "        f.write(str(region_area.values[r]))\n",
    "        f.write(\", \")\n",
    "        for i, var in enumerate(vnames):\n",
    "            data_var = getattr(array, var)\n",
    "            if i: \n",
    "                f.write(\", \")\n",
    "            f.write(str(data_var.values[row][r]))\n",
    "        f.write(\"\\n\")\n",
    "\n",
    "f.close()"
   ]
  }
 ],
 "metadata": {
  "kernelspec": {
   "display_name": "Python 3",
   "language": "python",
   "name": "python3"
  },
  "language_info": {
   "codemirror_mode": {
    "name": "ipython",
    "version": 3
   },
   "file_extension": ".py",
   "mimetype": "text/x-python",
   "name": "python",
   "nbconvert_exporter": "python",
   "pygments_lexer": "ipython3",
   "version": "3.7.7"
  }
 },
 "nbformat": 4,
 "nbformat_minor": 4
}
